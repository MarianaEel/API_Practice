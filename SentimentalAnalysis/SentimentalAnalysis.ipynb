{
 "cells": [
  {
   "cell_type": "markdown",
   "metadata": {},
   "source": [
    "# Sentimental Analysis\n",
    "This part is a combination of twitter api and google NLP api.\n",
    "The main focus is to extract tweets from twitter handle and use google NLP sevice to analyse them."
   ]
  },
  {
   "cell_type": "markdown",
   "metadata": {},
   "source": [
    "## twitter part"
   ]
  },
  {
   "cell_type": "code",
   "execution_count": 8,
   "metadata": {},
   "outputs": [],
   "source": [
    "import requests\n",
    "import pandas as pd\n",
    "import json\n",
    "import ast\n",
    "import yaml\n"
   ]
  },
  {
   "cell_type": "code",
   "execution_count": 25,
   "metadata": {},
   "outputs": [],
   "source": [
    "# Create fetch url in this block\n",
    "def create_twitter_url():\n",
    "    handle = \"MarianaSeafood\"\n",
    "    max_results = 10\n",
    "    mrf = \"max_results={}\".format(max_results)\n",
    "    q = \"query=from:{}\".format(handle)\n",
    "    url = \"https://api.twitter.com/2/tweets/search/recent?{}&{}\".format(\n",
    "        mrf, q\n",
    "    )\n",
    "    return url"
   ]
  },
  {
   "cell_type": "code",
   "execution_count": 48,
   "metadata": {},
   "outputs": [],
   "source": [
    "# fetch key from yaml file in this block\n",
    "def process_yaml():\n",
    "    with open(\"config.yaml\") as file:\n",
    "        return yaml.safe_load(file)"
   ]
  },
  {
   "cell_type": "code",
   "execution_count": 57,
   "metadata": {},
   "outputs": [],
   "source": [
    "def create_bearer_token_t(data):\n",
    "    return data[\"search_tweets_api\"][\"bearer_token\"]"
   ]
  },
  {
   "cell_type": "code",
   "execution_count": 62,
   "metadata": {},
   "outputs": [],
   "source": [
    "def create_bearer_token_g(data):\n",
    "    return data[\"search_google_api\"][\"bearer_token\"]"
   ]
  },
  {
   "cell_type": "code",
   "execution_count": 63,
   "metadata": {},
   "outputs": [],
   "source": [
    "def twitter_auth_and_connect(bearer_token, url):\n",
    "    headers = {\"Authorization\": \"Bearer {}\".format(bearer_token)}\n",
    "    # print(headers)\n",
    "    response = requests.request(\"GET\", url, headers=headers)\n",
    "    return response.json()"
   ]
  },
  {
   "cell_type": "code",
   "execution_count": 69,
   "metadata": {},
   "outputs": [],
   "source": [
    "#shape the data for analysis\n",
    "def lang_data_shape(res_json):\n",
    "    data_only = res_json[\"data\"]\n",
    "    doc_start = '\"documents\": {}'.format(data_only)\n",
    "    str_json = \"{\" + doc_start + \"}\"\n",
    "    # print(str_json)\n",
    "    dump_doc = json.dumps(str_json)\n",
    "    # print(dump_doc)\n",
    "    doc = json.loads(dump_doc)\n",
    "    # print(doc)\n",
    "    return ast.literal_eval(doc)"
   ]
  },
  {
   "cell_type": "code",
   "execution_count": 70,
   "metadata": {},
   "outputs": [
    {
     "name": "stdout",
     "output_type": "stream",
     "text": [
      "url=https://api.twitter.com/2/tweets/search/recent?max_results=10&query=from:MarianaSeafood\n",
      "json=\n",
      "{'data': [{'id': '1447404383029841921', 'text': 'Testing twitter api'}, {'id': '1447396580504576017', 'text': 'The third test message'}], 'meta': {'newest_id': '1447404383029841921', 'oldest_id': '1447396580504576017', 'result_count': 2}}\n",
      "docu=\n",
      "{'documents': [{'id': '1447404383029841921', 'text': 'Testing twitter api'}, {'id': '1447396580504576017', 'text': 'The third test message'}]}\n"
     ]
    }
   ],
   "source": [
    "def main():\n",
    "    url = create_twitter_url()\n",
    "    print(\"url=\"+ url)\n",
    "\n",
    "    data=process_yaml()\n",
    "    # print(type(data))\n",
    "    # print(\"DATA=\")\n",
    "    # print(data)\n",
    "\n",
    "    bearer_token_t = create_bearer_token_t(data)\n",
    "    # print(\"Twitter TOken\")\n",
    "    # print(bearer_token_t)\n",
    "    bearer_token_g = create_bearer_token_g(data)\n",
    "    # print(\"Google TOken\")\n",
    "    # print(bearer_token_g)\n",
    "\n",
    "    res_json = twitter_auth_and_connect(bearer_token_t, url)\n",
    "    print(\"json=\")\n",
    "    print(res_json )\n",
    "\n",
    "    documents = lang_data_shape(res_json)\n",
    "    print(\"docu=\")\n",
    "    print (documents)\n",
    "if __name__ == \"__main__\":\n",
    "    main()"
   ]
  }
 ],
 "metadata": {
  "interpreter": {
   "hash": "07efdcd4b820c98a756949507a4d29d7862823915ec7477944641bea022f4f62"
  },
  "kernelspec": {
   "display_name": "Python 3.7.11 64-bit ('base': conda)",
   "name": "python3"
  },
  "language_info": {
   "codemirror_mode": {
    "name": "ipython",
    "version": 3
   },
   "file_extension": ".py",
   "mimetype": "text/x-python",
   "name": "python",
   "nbconvert_exporter": "python",
   "pygments_lexer": "ipython3",
   "version": "3.7.11"
  },
  "orig_nbformat": 4
 },
 "nbformat": 4,
 "nbformat_minor": 2
}
