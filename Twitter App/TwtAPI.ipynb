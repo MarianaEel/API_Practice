{
 "cells": [
  {
   "cell_type": "code",
   "execution_count": 169,
   "source": [
    "import requests\r\n",
    "import pandas as pd\r\n",
    "import json\r\n",
    "import ast\r\n",
    "import yaml\r\n"
   ],
   "outputs": [],
   "metadata": {}
  },
  {
   "cell_type": "code",
   "execution_count": 170,
   "source": [
    "def create_twitter_url():\r\n",
    "    handle = \"MarianaSeafood\"\r\n",
    "    max_results = 10\r\n",
    "    mrf = \"max_results={}\".format(max_results)\r\n",
    "    q = \"query=from:{}\".format(handle)\r\n",
    "    url = \"https://api.twitter.com/2/tweets/search/recent?{}&{}\".format(\r\n",
    "        mrf, q\r\n",
    "    )\r\n",
    "    return url"
   ],
   "outputs": [],
   "metadata": {}
  },
  {
   "cell_type": "code",
   "execution_count": 171,
   "source": [
    "def process_yaml():\r\n",
    "    with open(\"config.yaml\") as file:\r\n",
    "        return yaml.safe_load(file)"
   ],
   "outputs": [],
   "metadata": {}
  },
  {
   "cell_type": "code",
   "execution_count": 172,
   "source": [
    "def create_bearer_token(data):\r\n",
    "    return data[\"search_tweets_api\"][\"bearer_token\"]"
   ],
   "outputs": [],
   "metadata": {}
  },
  {
   "cell_type": "code",
   "execution_count": 173,
   "source": [
    "def twitter_auth_and_connect(bearer_token, url):\r\n",
    "    headers = {\"Authorization\": \"Bearer {}\".format(bearer_token)}\r\n",
    "    # print(headers)\r\n",
    "    response = requests.request(\"GET\", url, headers=headers)\r\n",
    "    return response.json()"
   ],
   "outputs": [],
   "metadata": {}
  },
  {
   "cell_type": "code",
   "execution_count": 174,
   "source": [
    "def lang_data_shape(res_json):\r\n",
    "    data_only = res_json[\"data\"]\r\n",
    "    doc_start = '\"documents\": {}'.format(data_only)\r\n",
    "    str_json = \"{\" + doc_start + \"}\"\r\n",
    "    print(str_json)\r\n",
    "    dump_doc = json.dumps(str_json)\r\n",
    "    print(dump_doc)\r\n",
    "    doc = json.loads(dump_doc)\r\n",
    "    print(doc)\r\n",
    "    return ast.literal_eval(doc)"
   ],
   "outputs": [],
   "metadata": {}
  },
  {
   "cell_type": "code",
   "execution_count": 175,
   "source": [
    "def main():\r\n",
    "    url = create_twitter_url()\r\n",
    "    print(url)\r\n",
    "\r\n",
    "    data=process_yaml()\r\n",
    "    # print(type(data))\r\n",
    "    print(data)\r\n",
    "\r\n",
    "    bearer_token = create_bearer_token(data)\r\n",
    "    print(bearer_token)\r\n",
    "\r\n",
    "    res_json = twitter_auth_and_connect(bearer_token, url)\r\n",
    "    print(res_json)\r\n",
    "\r\n",
    "    documents = lang_data_shape(res_json)\r\n",
    "    print (documents)\r\n",
    "if __name__ == \"__main__\":\r\n",
    "    main()"
   ],
   "outputs": [
    {
     "output_type": "stream",
     "name": "stdout",
     "text": [
      "https://api.twitter.com/2/tweets/search/recent?max_results=10&query=from:MarianaSeafood\n",
      "{'search_tweets_api': {'bearer_token': 'AAAAAAAAAAAAAAAAAAAAAPVpUAEAAAAAFIxikbMwkpwICPC52RF3D1b%2FKCo%3DgnsftG9tw4L53aNKL1nnNoMOJCEqhxXk5m97Lm2RjnLM1DpAll'}}\n",
      "AAAAAAAAAAAAAAAAAAAAAPVpUAEAAAAAFIxikbMwkpwICPC52RF3D1b%2FKCo%3DgnsftG9tw4L53aNKL1nnNoMOJCEqhxXk5m97Lm2RjnLM1DpAll\n",
      "{'data': [{'id': '1442356075253182465', 'text': 'This is the 2nd test message.'}, {'id': '1442355978356379649', 'text': 'This is a test message.'}], 'meta': {'newest_id': '1442356075253182465', 'oldest_id': '1442355978356379649', 'result_count': 2}}\n",
      "{\"documents\": [{'id': '1442356075253182465', 'text': 'This is the 2nd test message.'}, {'id': '1442355978356379649', 'text': 'This is a test message.'}]}\n",
      "\"{\\\"documents\\\": [{'id': '1442356075253182465', 'text': 'This is the 2nd test message.'}, {'id': '1442355978356379649', 'text': 'This is a test message.'}]}\"\n",
      "{\"documents\": [{'id': '1442356075253182465', 'text': 'This is the 2nd test message.'}, {'id': '1442355978356379649', 'text': 'This is a test message.'}]}\n",
      "{'documents': [{'id': '1442356075253182465', 'text': 'This is the 2nd test message.'}, {'id': '1442355978356379649', 'text': 'This is a test message.'}]}\n"
     ]
    }
   ],
   "metadata": {}
  },
  {
   "cell_type": "code",
   "execution_count": null,
   "source": [],
   "outputs": [],
   "metadata": {}
  }
 ],
 "metadata": {
  "orig_nbformat": 4,
  "language_info": {
   "name": "python",
   "version": "3.7.6",
   "mimetype": "text/x-python",
   "codemirror_mode": {
    "name": "ipython",
    "version": 3
   },
   "pygments_lexer": "ipython3",
   "nbconvert_exporter": "python",
   "file_extension": ".py"
  },
  "kernelspec": {
   "name": "python3",
   "display_name": "Python 3.7.6 64-bit ('base': conda)"
  },
  "interpreter": {
   "hash": "07efdcd4b820c98a756949507a4d29d7862823915ec7477944641bea022f4f62"
  }
 },
 "nbformat": 4,
 "nbformat_minor": 2
}